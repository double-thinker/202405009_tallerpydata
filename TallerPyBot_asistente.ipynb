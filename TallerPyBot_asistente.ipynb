{
 "cells": [
  {
   "cell_type": "markdown",
   "id": "cc7113e6",
   "metadata": {
    "editable": true,
    "slideshow": {
     "slide_type": "slide"
    },
    "tags": []
   },
   "source": [
    "# Taller de IA Generativa"
   ]
  },
  {
   "cell_type": "code",
   "execution_count": null,
   "id": "02fd6785-38fc-421d-b5bb-0c88f271b2fa",
   "metadata": {},
   "outputs": [],
   "source": [
    "!pip install openai #Mínimo\n",
    "!pip install ipyreact tiktoken numpy #Óptimo"
   ]
  },
  {
   "cell_type": "code",
   "execution_count": null,
   "id": "08098d44-871b-42a9-a1b1-c8dd116c94a0",
   "metadata": {},
   "outputs": [],
   "source": [
    "from tools import *"
   ]
  },
  {
   "cell_type": "markdown",
   "id": "9041a8e7-8413-496f-beb4-74238093b4de",
   "metadata": {},
   "source": [
    "Si prefieres colores adaptados para daltonismo ejecuta la siguiente línea :)\n",
    "\n",
    "```python\n",
    "set_default_colors(colorblind_pallete)\n",
    "```"
   ]
  },
  {
   "cell_type": "code",
   "execution_count": null,
   "id": "2a7d2781-587b-4f2d-b10c-a13dd6a1e7d4",
   "metadata": {},
   "outputs": [],
   "source": [
    "# Añade tu api key aquí\n",
    "# import os\n",
    "# os.environ[\"OPENAI_API_KEY\"] = \"sk-pro....xxxx\""
   ]
  },
  {
   "cell_type": "markdown",
   "id": "f0758003-4a7f-4388-9ed6-d09edd00d083",
   "metadata": {},
   "source": [
    "> ⚠️ **Es muy peligroso usar las API Key desde el notebook. Desactivala al acabar el taller**\n",
    ">\n",
    "> **Debes desactivarla pues Jupyter guarda versiones antiguas de tus notebooks**"
   ]
  },
  {
   "cell_type": "code",
   "execution_count": null,
   "id": "dfe7d212-f25a-407f-9570-c9d00d96f2a6",
   "metadata": {},
   "outputs": [],
   "source": [
    "check_openai()"
   ]
  },
  {
   "cell_type": "code",
   "execution_count": null,
   "id": "0e93c719-bb5f-4906-b7f2-314b3ce94c20",
   "metadata": {},
   "outputs": [],
   "source": [
    "# Creamos el cliente para los siguientes ejercicios\n",
    "import openai\n",
    "client = openai.OpenAI()"
   ]
  },
  {
   "cell_type": "markdown",
   "id": "66095ce3-8444-4000-90d3-5b5bef17df09",
   "metadata": {},
   "source": [
    "# Ejercicio 0: ¿Cómo de peligroso es dejar una API key en un notebook?\n",
    "\n",
    "a) No mucho, es peor dejar la contraseña de mi ordenador en un postit.\n",
    "\n",
    "b) Un poquito, si la borro después no pasa nada.\n",
    "\n",
    "c) Terrible."
   ]
  },
  {
   "cell_type": "code",
   "execution_count": null,
   "id": "deb24d74-9bcd-4ae6-9274-90723aaec4d9",
   "metadata": {},
   "outputs": [],
   "source": []
  },
  {
   "cell_type": "markdown",
   "id": "e15d9eb2-7b14-46d5-b6ef-e892a040d9ea",
   "metadata": {},
   "source": [
    "### 1.2 Tokens y embeddings\n",
    "\n",
    "Token = fragmento de un texto\n",
    "\n",
    "(o de una imagen, o un audio, o un vídeo, ...)"
   ]
  },
  {
   "cell_type": "code",
   "execution_count": null,
   "id": "0e4598aa-391a-4430-a5ba-ea3539a8e868",
   "metadata": {},
   "outputs": [],
   "source": [
    "#### Actividad 1: Vamos a tokenizar!\n",
    "\n",
    "InteractiveTokenizer()"
   ]
  },
  {
   "cell_type": "markdown",
   "id": "bf8037ba-4bf9-4e7f-9a4c-6b22db7ad9e7",
   "metadata": {},
   "source": [
    "- 1a. Practica con él. Intenta deducir cómo funciona (fíjate en los números)\n",
    "- 1b. ¿Qué ocurre cuando **añades** texto?\n",
    "- 1c. Prueba palabras con ñ y emojis\n",
    "- 1d. Compara el # de tokens en inglés y en español"
   ]
  },
  {
   "cell_type": "code",
   "execution_count": null,
   "id": "46a29dcd-0ed8-4209-9300-b456337d9073",
   "metadata": {},
   "outputs": [],
   "source": []
  },
  {
   "cell_type": "markdown",
   "id": "91e04a22-f08b-4157-bf1d-3d22b2769bfc",
   "metadata": {},
   "source": [
    "#### Embeddings\n",
    "\n",
    "Cada token tiene un **embedding**."
   ]
  },
  {
   "cell_type": "markdown",
   "id": "dadf7945-4a7a-4964-86cf-7f9fe317daca",
   "metadata": {},
   "source": [
    "**Embedding** = vector (lista) de números que representa su significado"
   ]
  },
  {
   "cell_type": "markdown",
   "id": "fd3ee1ee-45aa-4d4c-bee3-53c71e44ec17",
   "metadata": {},
   "source": [
    "#### Actividad 2: Embeddings"
   ]
  },
  {
   "cell_type": "markdown",
   "id": "8381eda9-f568-4929-b8e2-ad374110af07",
   "metadata": {},
   "source": [
    "Tenemos las variables `maths`, `emojis`, `python_code`, `cute`, `tweets` con ejemplos de **documentos** o **chunks**"
   ]
  },
  {
   "cell_type": "markdown",
   "id": "463d21aa-6703-442e-9a39-bf00eb43eb20",
   "metadata": {},
   "source": [
    "Pero... ¿Qué es un embedding?"
   ]
  },
  {
   "cell_type": "markdown",
   "id": "1a33c194-64d2-412f-9ff0-be58445fb9de",
   "metadata": {},
   "source": [
    "```python\n",
    "get_embedding(\"El texto que quieras\")\n",
    "```"
   ]
  },
  {
   "cell_type": "code",
   "execution_count": null,
   "id": "b7ae4278-e410-4098-8c7a-8e439b9320e5",
   "metadata": {},
   "outputs": [],
   "source": [
    "\",\".join([str(x) for x in get_embedding(\"Hola. Encantado de conocerte.\")])"
   ]
  },
  {
   "cell_type": "markdown",
   "id": "c48c3446-c1da-4674-84a1-e2998e2dcdcf",
   "metadata": {},
   "source": [
    "**Ahora vosotros. Visualiza cada una de estos bloques por separado (requiere numpy y matplotlib)**\n",
    "\n",
    "```python\n",
    "viz_embeddings(maths)\n",
    "viz_embeddings(tweets)\n",
    "# ...\n",
    "```\n",
    "\n",
    "Y luego combinalos\n",
    "```python\n",
    "viz_embeddings(maths + tweets)\n",
    "# ...\n",
    "```\n",
    "\n",
    "Prueba con ejemplos tuyos\n",
    "```python\n",
    "viz_embeddings(maths + tweets + cute + emojis + python_code + [\"Lo que sea\", \"Blah\", ...])\n",
    "```"
   ]
  },
  {
   "cell_type": "code",
   "execution_count": null,
   "id": "7b17c874-3771-45ea-8721-f10ca513973f",
   "metadata": {},
   "outputs": [],
   "source": []
  },
  {
   "cell_type": "markdown",
   "id": "b313a34a-63ce-4e76-8b69-72e86b5dc695",
   "metadata": {
    "editable": true,
    "slideshow": {
     "slide_type": "slide"
    },
    "tags": []
   },
   "source": [
    "### Transformers\n",
    "\n",
    "- Arquitectura utilizada en las LLM\n",
    "- Basada en el mecanismo de **atención**"
   ]
  },
  {
   "cell_type": "markdown",
   "id": "a645a74d-8a2a-49e9-8dd7-42cddcc4fa9c",
   "metadata": {},
   "source": [
    "- Permite procesar secuencias de longitud variable\n",
    "- Captura dependencias a largo plazo"
   ]
  },
  {
   "cell_type": "code",
   "execution_count": null,
   "id": "b19122f3-aa1d-46ad-9eee-4bb2d80dcf04",
   "metadata": {},
   "outputs": [],
   "source": [
    "# Esto solo lo ejecuta el profe ;) Avisados quedáis."
   ]
  },
  {
   "cell_type": "markdown",
   "id": "71e98e5e",
   "metadata": {
    "editable": true,
    "slideshow": {
     "slide_type": "slide"
    }
   },
   "source": [
    "### Beam search\n",
    "\n",
    "- Algoritmo utilizado para generar texto\n",
    "- Explora múltiples posibilidades en paralelo"
   ]
  },
  {
   "cell_type": "code",
   "execution_count": null,
   "id": "39dbb2d6-9a6d-4273-9158-2e2853dafd1b",
   "metadata": {},
   "outputs": [],
   "source": [
    "client.completions.create??"
   ]
  },
  {
   "cell_type": "code",
   "execution_count": null,
   "id": "208cca06-36c1-4aa6-8e73-b5d528443583",
   "metadata": {},
   "outputs": [],
   "source": [
    "response = client.completions.create(model=\"davinci-002\", prompt=\"Ey! \")\n",
    "response"
   ]
  },
  {
   "cell_type": "code",
   "execution_count": null,
   "id": "cbd993d9-3631-4b56-a2e1-05076249a38b",
   "metadata": {},
   "outputs": [],
   "source": [
    "response.choices"
   ]
  },
  {
   "cell_type": "markdown",
   "id": "796f580d-027a-435e-a350-469a07d9c59b",
   "metadata": {},
   "source": [
    "Vamos a ver el uso:"
   ]
  },
  {
   "cell_type": "code",
   "execution_count": null,
   "id": "e7b83691-1bfc-4617-94c9-5b2ee095d29d",
   "metadata": {},
   "outputs": [],
   "source": [
    "response.__dict__"
   ]
  },
  {
   "cell_type": "markdown",
   "id": "bb59e844-da43-48c0-863c-839f202a83bc",
   "metadata": {},
   "source": [
    "### Activida 3: Analiza el efecto de los parámetros: model, temperature, top_p\n",
    "\n",
    "a) Compara davinci-002 con gpt-3.5-turbo-instruct\n",
    "\n",
    "b) Usando \"gpt-3.5-turbo-instruct\" cambia la temperatura (y fija el `seed`)\n",
    "\n",
    "c) Usando \"gpt-3.5-turbo-instruct\" cambia el top_p (y fija el `seed` y `temperature`)"
   ]
  },
  {
   "cell_type": "markdown",
   "id": "b8509a68",
   "metadata": {
    "editable": true,
    "slideshow": {
     "slide_type": "slide"
    }
   },
   "source": [
    "## Prompt Engineering \"a mano\"\n",
    "\n",
    "- ¿Qué es prompt engineering?\n",
    "- Diseño de prompts efectivos\n",
    "- Ejemplos de prompt engineering:\n",
    "  - Prompt básico de 1 paso\n",
    "  - Prompt con tools\n",
    "  - Prompt con RAG"
   ]
  },
  {
   "cell_type": "markdown",
   "id": "125b6483",
   "metadata": {
    "editable": true,
    "slideshow": {
     "slide_type": "slide"
    }
   },
   "source": [
    "### Prompt básico de 1 paso\n",
    "\n",
    "- Ejemplo: explicador de código de Python\n",
    "- Diseño del prompt para obtener explicaciones de código\n",
    "\n",
    "```python\n",
    "# PSEUDOCODIGO\n",
    "def explica_codigo(codigo):\n",
    "    prompt = f\"\"\"\n",
    "Explica el siguiente código de Python:\n",
    "\n",
    "{codigo}\n",
    "\n",
    "Explicación:\n",
    "\"\"\"\n",
    "    respuesta = genera_texto(prompt)\n",
    "    return respuesta\n",
    "```"
   ]
  },
  {
   "cell_type": "markdown",
   "id": "1ec954a0-738d-481b-9972-0829dac038a7",
   "metadata": {},
   "source": [
    "### Actividad 4: Crea tu chatbot!\n",
    "\n",
    "Nivel 1: Crea un chatbot que explique un código de Python\n",
    "\n",
    "Nivel 2: Crea un chatbot que comente una función de Python\n",
    "\n",
    "Nivel 2: Crea un chatbot que **corrija** un código de Python **si tiene un error**"
   ]
  },
  {
   "cell_type": "code",
   "execution_count": null,
   "id": "ef472888-104d-4d1c-81cf-308df6de5c84",
   "metadata": {},
   "outputs": [],
   "source": []
  },
  {
   "cell_type": "markdown",
   "id": "5e72390a",
   "metadata": {
    "editable": true,
    "slideshow": {
     "slide_type": "slide"
    }
   },
   "source": [
    "### Prompt con tools\n",
    "\n",
    "- Integración de herramientas externas en los prompts\n",
    "- Ejemplo: chatbot con intérprete de Python\n",
    "\n",
    "```python\n",
    "def chatbot_interprete(entrada):\n",
    "    prompt = f\"\"\"\n",
    "Eres un chatbot con acceso a un intérprete de Python. Puedes ejecutar comandos de Python y devolver el resultado. Para ejecutar el intérprete debes....\n",
    "\n",
    "Usuario: {entrada}\n",
    "\"\"\"\n",
    "    respuesta = genera_texto(prompt)\n",
    "    resultado = ejecuta_python(respuesta)\n",
    "    return resultado\n",
    "```"
   ]
  },
  {
   "cell_type": "markdown",
   "id": "2b80ac93-3614-4f86-b4b2-06de784d0b86",
   "metadata": {},
   "source": [
    "### Actividad 5: Crea tu con una herramienta\n",
    "\n",
    "Nivel 1: Crea un chatbot que calcule operaciones matemáticas\n",
    "\n",
    "Nivel 2: Crea un chatbot que ejecute un código de Python y lo corrija en base a lo necesario."
   ]
  },
  {
   "cell_type": "code",
   "execution_count": null,
   "id": "ebd022ec-820f-4238-8af6-613e6bc58f98",
   "metadata": {},
   "outputs": [],
   "source": []
  },
  {
   "cell_type": "markdown",
   "id": "fb7c59a1",
   "metadata": {
    "editable": true,
    "slideshow": {
     "slide_type": "slide"
    }
   },
   "source": [
    "### Prompt con RAG\n",
    "\n",
    "- Generación de respuestas basada en recuperación (RAG)\n",
    "- Ejemplo: chatbot de dudas sobre la Python standard library\n",
    "\n",
    "```python\n",
    "def chatbot_rag(pregunta):\n",
    "    prompt = f\"\"\"\n",
    "Eres un chatbot experto en la biblioteca estándar de Python. Utiliza la siguiente base de conocimientos para responder a la pregunta del usuario:\n",
    "\n",
    "Base de conocimientos: {recupera_info_relevante(pregunta)}\n",
    "\n",
    "Usuario: {pregunta}\n",
    "\"\"\"\n",
    "    respuesta = genera_texto(prompt)\n",
    "    return respuesta\n",
    "```"
   ]
  },
  {
   "cell_type": "markdown",
   "id": "9fcb0729-1c0b-4025-889b-a8e66e2a56ca",
   "metadata": {},
   "source": [
    "### Actividad 6: Crea tu RAG\n",
    "\n",
    "(Opcional si queda tiempo!)"
   ]
  },
  {
   "cell_type": "markdown",
   "id": "92b73f10-c20e-4368-8565-d1e38efa5fb5",
   "metadata": {},
   "source": [
    "# Muchas gracias\n",
    "\n",
    "Alejandro Vidal\n",
    "\n",
    "alex@mindmake.rs\n",
    "\n",
    "[@doblepensador](https://twitter.com/doblepensador)"
   ]
  }
 ],
 "metadata": {
  "jupytext": {
   "celltoolbar": "Slideshow",
   "formats": "ipynb,md:myst"
  },
  "kernelspec": {
   "display_name": "Python 3 (ipykernel)",
   "language": "python",
   "name": "python3"
  },
  "language_info": {
   "codemirror_mode": {
    "name": "ipython",
    "version": 3
   },
   "file_extension": ".py",
   "mimetype": "text/x-python",
   "name": "python",
   "nbconvert_exporter": "python",
   "pygments_lexer": "ipython3",
   "version": "3.11.0"
  }
 },
 "nbformat": 4,
 "nbformat_minor": 5
}
